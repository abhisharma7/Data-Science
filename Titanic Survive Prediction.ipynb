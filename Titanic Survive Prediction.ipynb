{
 "cells": [
  {
   "cell_type": "markdown",
   "metadata": {},
   "source": [
    "### Author: Abhishek Sharma\n",
    "\n",
    "### Program: Titanic Dataset from Kaggle\n",
    "\n",
    "### Last Modified: August 17, 2017"
   ]
  },
  {
   "cell_type": "code",
   "execution_count": 52,
   "metadata": {
    "collapsed": false
   },
   "outputs": [],
   "source": [
    "import pandas as pd\n",
    "import numpy as np\n",
    "from sklearn.cross_validation import KFold\n",
    "from sklearn.linear_model import LinearRegression\n",
    "import matplotlib.pyplot as plt\n",
    "\n",
    "train_path = \"data/titanic_survive_prediction_train.csv\"\n",
    "test_path = \"data/titanic_survive_prediction_test.csv\"\n",
    "train_data = pd.read_csv(train_path,delimiter=',')\n",
    "test_data = pd.read_csv(test_path,delimiter=',')"
   ]
  },
  {
   "cell_type": "code",
   "execution_count": 78,
   "metadata": {
    "collapsed": false
   },
   "outputs": [],
   "source": [
    "# Preparing Training Data\n",
    "train_data['Sex'].replace(['male','female'],['0','1'],inplace=True)\n",
    "\n",
    "X_train_data = np.array(train_data.iloc[:,4:6])\n",
    "X_train_label = np.array(train_data.iloc[:,1:2])"
   ]
  },
  {
   "cell_type": "code",
   "execution_count": null,
   "metadata": {
    "collapsed": true
   },
   "outputs": [],
   "source": [
    "# Preparing Testi"
   ]
  }
 ],
 "metadata": {
  "kernelspec": {
   "display_name": "Python 3",
   "language": "python",
   "name": "python3"
  },
  "language_info": {
   "codemirror_mode": {
    "name": "ipython",
    "version": 3
   },
   "file_extension": ".py",
   "mimetype": "text/x-python",
   "name": "python",
   "nbconvert_exporter": "python",
   "pygments_lexer": "ipython3",
   "version": "3.5.3"
  }
 },
 "nbformat": 4,
 "nbformat_minor": 0
}
